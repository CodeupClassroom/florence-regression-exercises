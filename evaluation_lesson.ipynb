{
 "cells": [
  {
   "cell_type": "markdown",
   "id": "b0b3903b-d4ac-4a48-a539-c2409ce9b99a",
   "metadata": {},
   "source": [
    "# Regression Evaluation\n",
    "\n",
    "Why do we evaluate models?\n",
    "\n",
    "- Does this model add any value?\n",
    "- Which model is better?\n",
    "- How confident am I in my model's predictions?"
   ]
  },
  {
   "cell_type": "markdown",
   "id": "6ce8498b-71f1-4d4a-89b8-6a1808626b6a",
   "metadata": {},
   "source": [
    "**tl;dr**\n",
    "\n",
    "- rmse: how far off the typical prediction is; same units as the target; smaller is better\n",
    "- R2: variance in y explained by X; closer to 1 is better"
   ]
  },
  {
   "cell_type": "markdown",
   "id": "0cd5a91e-3cfe-41d5-be82-a3965df135a8",
   "metadata": {},
   "source": [
    "## Setup"
   ]
  },
  {
   "cell_type": "code",
   "execution_count": 8,
   "id": "770911dd-c86a-4c34-ab86-48f837af4e26",
   "metadata": {},
   "outputs": [],
   "source": [
    "import pandas as pd\n",
    "import numpy as np\n",
    "from sklearn.linear_model import LinearRegression\n",
    "from sklearn.metrics import r2_score, mean_squared_error"
   ]
  },
  {
   "cell_type": "code",
   "execution_count": 2,
   "id": "30990817-60d2-46a8-95a8-df1e3b25fc7d",
   "metadata": {},
   "outputs": [
    {
     "data": {
      "text/html": [
       "<div>\n",
       "<style scoped>\n",
       "    .dataframe tbody tr th:only-of-type {\n",
       "        vertical-align: middle;\n",
       "    }\n",
       "\n",
       "    .dataframe tbody tr th {\n",
       "        vertical-align: top;\n",
       "    }\n",
       "\n",
       "    .dataframe thead th {\n",
       "        text-align: right;\n",
       "    }\n",
       "</style>\n",
       "<table border=\"1\" class=\"dataframe\">\n",
       "  <thead>\n",
       "    <tr style=\"text-align: right;\">\n",
       "      <th></th>\n",
       "      <th>x1</th>\n",
       "      <th>x2</th>\n",
       "      <th>y</th>\n",
       "    </tr>\n",
       "  </thead>\n",
       "  <tbody>\n",
       "    <tr>\n",
       "      <th>0</th>\n",
       "      <td>-1.085631</td>\n",
       "      <td>0.642055</td>\n",
       "      <td>-0.091921</td>\n",
       "    </tr>\n",
       "    <tr>\n",
       "      <th>1</th>\n",
       "      <td>0.997345</td>\n",
       "      <td>-1.977888</td>\n",
       "      <td>-1.279595</td>\n",
       "    </tr>\n",
       "    <tr>\n",
       "      <th>2</th>\n",
       "      <td>0.282978</td>\n",
       "      <td>0.712265</td>\n",
       "      <td>2.095594</td>\n",
       "    </tr>\n",
       "    <tr>\n",
       "      <th>3</th>\n",
       "      <td>-1.506295</td>\n",
       "      <td>2.598304</td>\n",
       "      <td>1.436158</td>\n",
       "    </tr>\n",
       "    <tr>\n",
       "      <th>4</th>\n",
       "      <td>-0.578600</td>\n",
       "      <td>-0.024626</td>\n",
       "      <td>-0.606380</td>\n",
       "    </tr>\n",
       "  </tbody>\n",
       "</table>\n",
       "</div>"
      ],
      "text/plain": [
       "         x1        x2         y\n",
       "0 -1.085631  0.642055 -0.091921\n",
       "1  0.997345 -1.977888 -1.279595\n",
       "2  0.282978  0.712265  2.095594\n",
       "3 -1.506295  2.598304  1.436158\n",
       "4 -0.578600 -0.024626 -0.606380"
      ]
     },
     "execution_count": 2,
     "metadata": {},
     "output_type": "execute_result"
    }
   ],
   "source": [
    "np.random.seed(123)\n",
    "\n",
    "df = pd.DataFrame()\n",
    "df['x1'] = np.random.randn(100)\n",
    "df['x2'] = np.random.randn(100)\n",
    "df['y'] = df.x1 + df.x2 + np.random.randn(100) * .5\n",
    "\n",
    "df.head()"
   ]
  },
  {
   "cell_type": "markdown",
   "id": "d0a7bc43-2bb2-4d81-aaf9-1b6a77be1350",
   "metadata": {},
   "source": [
    "## Make Predictions "
   ]
  },
  {
   "cell_type": "markdown",
   "id": "971a8660-67db-42c1-ac97-7716e1cf575b",
   "metadata": {},
   "source": [
    "## Calculate Evaluation Metrics"
   ]
  },
  {
   "cell_type": "markdown",
   "id": "83fe5c40-d733-432f-bde8-6b70c4c2aa01",
   "metadata": {},
   "source": [
    "## Visualize Residuals"
   ]
  }
 ],
 "metadata": {
  "kernelspec": {
   "display_name": "Python 3",
   "language": "python",
   "name": "python3"
  },
  "language_info": {
   "codemirror_mode": {
    "name": "ipython",
    "version": 3
   },
   "file_extension": ".py",
   "mimetype": "text/x-python",
   "name": "python",
   "nbconvert_exporter": "python",
   "pygments_lexer": "ipython3",
   "version": "3.8.3"
  }
 },
 "nbformat": 4,
 "nbformat_minor": 5
}
